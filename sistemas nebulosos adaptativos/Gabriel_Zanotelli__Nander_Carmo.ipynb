{
 "cells": [
  {
   "cell_type": "markdown",
   "source": [
    "# Agrupamento Fuzzy\n",
    "\n",
    "### Grupo\n",
    "- Gabriel Camatta Zanotelli - 2018020140\n",
    "- Nander Santos do Carmo - 2018019931"
   ],
   "metadata": {
    "collapsed": false
   }
  },
  {
   "cell_type": "markdown",
   "source": [
    "### Bibliotecas e dados"
   ],
   "metadata": {
    "collapsed": false
   }
  },
  {
   "cell_type": "code",
   "execution_count": null,
   "metadata": {
    "collapsed": true,
    "is_executing": true
   },
   "outputs": [],
   "source": [
    "import numpy as np\n",
    "from matplotlib import pyplot as plt\n",
    "from scipy.io import loadmat\n",
    "import math\n",
    "import skfuzzy\n",
    "import pandas as pd\n",
    "import random as rand\n",
    "import torch\n",
    "from torch.utils.data import TensorDataset, DataLoader\n",
    "from scipy.io import loadmat\n",
    "import sys\n",
    "sys.path.append(\"./anfis-pytorch/\")\n",
    "from anfispytorchmaster.experimental import train_anfis, test_anfis, plot_all_mfs\n",
    "from anfispytorchmaster.membership import GaussMembFunc, make_gauss_mfs\n",
    "import anfispytorchmaster.anfis as ANFIS\n",
    "\n",
    "iris = open('Iris.csv', mode='r')\n",
    "breast = open('Breast.csv', mode='r')"
   ]
  },
  {
   "cell_type": "markdown",
   "source": [
    "---\n",
    "## 2- Aproximação de Funções\n",
    "\n",
    "Utilizaremos um sistema ANFIS de tipo Tageki-Sugueno de Ordem 1 de forma a aproximar uma função na forma sen(x) definida no espaço [0,2] utilizando uma N=80 pontos utilizando a seguinte equação:\n",
    "\n",
    "![Formula senóide com ruído](./senoide.png 'Senóide com ruído')"
   ],
   "metadata": {
    "collapsed": false
   }
  },
  {
   "cell_type": "markdown",
   "source": [
    "### Funções de Pertinência\n",
    "\n",
    "Por experiência temos que, para representar uma senóide de forma precisa, devemos utilizar três regras de pertinência."
   ],
   "metadata": {
    "collapsed": false
   }
  },
  {
   "cell_type": "code",
   "execution_count": null,
   "outputs": [],
   "source": [
    "# Espaço definido\n",
    "N = 80\n",
    "x = np.linspace(0, 2*math.pi, N)\n",
    "\n",
    "# valores de ativação de cada regra\n",
    "fun_pertinencia1 = skfuzzy.gaussmf(x, 0, 1.25)\n",
    "fun_pertinencia2 = skfuzzy.gaussmf(x, math.pi, 1.25)\n",
    "fun_pertinencia3 = skfuzzy.gaussmf(x, 2*math.pi, 1.25)\n",
    "\n",
    "# plota as funções de pertinência\n",
    "plt.plot(x, fun_pertinencia1, x, fun_pertinencia2, x, fun_pertinencia2, x, fun_pertinencia3)\n",
    "plt.title(\"Funções de pertinência da senóide com 3 regras\")\n",
    "plt.xlabel(\"Radianos\")\n",
    "plt.ylabel(\"Pertinência\")\n",
    "plt.show()"
   ],
   "metadata": {
    "collapsed": false
   }
  },
  {
   "cell_type": "markdown",
   "source": [
    "### Geração do conjunto de dados\n",
    "\n",
    "Gera o conjunto de dados aleatórios da senóide e separa conjunto de treino e teste."
   ],
   "metadata": {
    "collapsed": false
   }
  },
  {
   "cell_type": "code",
   "execution_count": null,
   "outputs": [],
   "source": [
    "def gera_dados_treino(size):\n",
    "    perc_train = 0.75\n",
    "    x_space = np.linspace(0, 2*math.pi, size)\n",
    "\n",
    "    # Conjunto de dados de trainamento e teste\n",
    "    x_rand_id = np.linspace(0, size-1, size).astype(int)\n",
    "    rand.shuffle(x_rand_id)\n",
    "\n",
    "    x_train = x_space[x_rand_id[0:int(size*perc_train)]]\n",
    "    x_te = x_space[x_rand_id[int(size*perc_train):size]]\n",
    "\n",
    "    y = np.sin(x_space) + 0.1*np.random.randn(size)\n",
    "    y_train = y[x_rand_id[0:int(size*perc_train)]]\n",
    "    y_te = y[x_rand_id[int(size*perc_train):size]]\n",
    "\n",
    "    # Plota dados de treino (azul) e de teste (laranja)\n",
    "    plt.scatter(x_train,y_train)\n",
    "    plt.scatter(x_te,y_te)\n",
    "\n",
    "    return [x_train, x_te, y_train, y_te]\n",
    "\n",
    "\n",
    "def gera_dados_modelo(x_train, y_train):\n",
    "    x_train_aux = torch.tensor([[val] for val in x_train], dtype=torch.float)\n",
    "    y_train_aux = torch.tensor([[val] for val in y_train], dtype=torch.float)\n",
    "    return DataLoader(TensorDataset(x_train_aux, y_train_aux))"
   ],
   "metadata": {
    "collapsed": false
   }
  },
  {
   "cell_type": "markdown",
   "source": [
    "### Criação do modelo ANFIS"
   ],
   "metadata": {
    "collapsed": false
   }
  },
  {
   "cell_type": "code",
   "execution_count": null,
   "outputs": [],
   "source": [
    "def inicializa_problema():\n",
    "    x1 = [('x1', make_gauss_mfs(math.pi/2, [0.0, math.pi, 2*math.pi]))]\n",
    "    x2 = ['x2']\n",
    "    return ANFIS.AnfisNet('Senoide', x1, x2)"
   ],
   "metadata": {
    "collapsed": false
   }
  },
  {
   "cell_type": "markdown",
   "source": [
    "### Executa modelo"
   ],
   "metadata": {
    "collapsed": false
   }
  },
  {
   "cell_type": "code",
   "execution_count": null,
   "outputs": [],
   "source": [
    "anfis_model = inicializa_problema()\n",
    "dados_treino = gera_dados_treino(N)\n",
    "dados_treino_modelados = gera_dados_modelo(dados_treino[0], dados_treino[2])\n",
    "\n",
    "train_anfis(anfis_model, dados_treino_modelados, N, True)\n",
    "x_result = np.ravel(dados_treino_modelados.dataset.tensors[0])\n",
    "y_treino = np.ravel(dados_treino_modelados.dataset.tensors[1])\n",
    "y_result = np.ravel(anfis_model(dados_treino_modelados.dataset.tensors[0]).detach().numpy())\n",
    "plt.scatter(x_result, y_treino, label='Dados de entrada')\n",
    "plt.scatter(x_result, y_result, label='Resultado do modelo')\n",
    "plt.title(\"Resultado da análise do ANFIS\")\n",
    "plt.legend()\n",
    "plt.show()\n",
    "\n",
    "error = np.sum((y_treino - y_result)**2)/100\n",
    "print(\"MSE: \" + str(error))"
   ],
   "metadata": {
    "collapsed": false
   }
  },
  {
   "cell_type": "markdown",
   "source": [],
   "metadata": {
    "collapsed": false
   }
  },
  {
   "cell_type": "markdown",
   "source": [
    "---\n",
    "## 3- Previsão de uma Séria Temporal\n",
    "\n",
    "A série temporal de *Mackey-Glass* é definida pela seguinte formula:\n",
    "\n",
    "![Série de Mackey-Glass](./serie_temporal.png 'Formato da série temporal')"
   ],
   "metadata": {
    "collapsed": false
   }
  },
  {
   "cell_type": "markdown",
   "source": [
    "### Geração dos dados modelados"
   ],
   "metadata": {
    "collapsed": false
   }
  },
  {
   "cell_type": "code",
   "execution_count": null,
   "outputs": [],
   "source": [
    "def gera_dados(dados):\n",
    "    n = len(dados) - 18\n",
    "    x = torch.zeros((n, 4))\n",
    "    y = torch.zeros((n, 1))\n",
    "    for t in range(18, len(dados)-6):\n",
    "            aux_values = [dados[t-18], dados[t-12], dados[t-6], dados[t], dados[t+6]]\n",
    "            x[t-18] = torch.tensor(aux_values[0:4])\n",
    "            y[t-18] = aux_values[4]\n",
    "    dl = DataLoader(TensorDataset(x, y), batch_size=1024, shuffle=True)\n",
    "    return dl"
   ],
   "metadata": {
    "collapsed": false
   }
  },
  {
   "cell_type": "markdown",
   "source": [
    "### Criação do modelo ANFIS"
   ],
   "metadata": {
    "collapsed": false
   }
  },
  {
   "cell_type": "code",
   "execution_count": null,
   "outputs": [],
   "source": [
    "def inicializa_problema():\n",
    "    x1 = [\n",
    "            ('t-12', make_gauss_mfs(0.1, [0.425606, 1.313696])),\n",
    "            ('t-12', make_gauss_mfs(0.1, [0.425606, 1.313696])),\n",
    "            ('t-6',  make_gauss_mfs(0.1, [0.425606, 1.313696])),\n",
    "            ('t',    make_gauss_mfs(0.1, [0.425606, 1.313696]))]\n",
    "    x2 = ['t+6']\n",
    "    return ANFIS.AnfisNet('Previsão de uma Séria Temporal', x1, x2)"
   ],
   "metadata": {
    "collapsed": false
   }
  },
  {
   "cell_type": "markdown",
   "source": [
    "### Executa modelo"
   ],
   "metadata": {
    "collapsed": false
   }
  },
  {
   "cell_type": "code",
   "execution_count": null,
   "outputs": [],
   "source": [
    "dados = np.ravel(loadmat('mg.mat')['x'])\n",
    "N = len(dados)\n",
    "dados_train = dados[0:int(N*.8)]\n",
    "dados_te = dados[int(N*.8)+1:N]\n",
    "\n",
    "modelo = inicializa_problema()\n",
    "dados_treino_modelados = gera_dados(dados_train)\n",
    "train_anfis(modelo, dados_treino_modelados, 100, True)\n",
    "\n",
    "dados_teste_modelados = gera_dados(dados_te)\n",
    "test_anfis(modelo, dados_teste_modelados, True)"
   ],
   "metadata": {
    "collapsed": false
   }
  },
  {
   "cell_type": "markdown",
   "source": [
    "---\n",
    "## 4- Classificação de Padrões"
   ],
   "metadata": {
    "collapsed": false
   }
  },
  {
   "cell_type": "code",
   "execution_count": null,
   "outputs": [],
   "source": [],
   "metadata": {
    "collapsed": false
   }
  }
 ],
 "metadata": {
  "kernelspec": {
   "display_name": "Python 3",
   "language": "python",
   "name": "python3"
  },
  "language_info": {
   "codemirror_mode": {
    "name": "ipython",
    "version": 2
   },
   "file_extension": ".py",
   "mimetype": "text/x-python",
   "name": "python",
   "nbconvert_exporter": "python",
   "pygments_lexer": "ipython2",
   "version": "2.7.6"
  }
 },
 "nbformat": 4,
 "nbformat_minor": 0
}
